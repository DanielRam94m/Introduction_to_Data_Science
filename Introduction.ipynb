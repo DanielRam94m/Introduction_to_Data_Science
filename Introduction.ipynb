{
 "cells": [
  {
   "cell_type": "markdown",
   "metadata": {},
   "source": [
    "## Daniel Ramírez Umaña"
   ]
  },
  {
   "cell_type": "markdown",
   "metadata": {},
   "source": [
    "#### Outputs"
   ]
  },
  {
   "cell_type": "code",
   "execution_count": 9,
   "metadata": {},
   "outputs": [
    {
     "name": "stdout",
     "output_type": "stream",
     "text": [
      "Hello World\n"
     ]
    }
   ],
   "source": [
    "print(\"Hello World\")"
   ]
  },
  {
   "cell_type": "code",
   "execution_count": 10,
   "metadata": {},
   "outputs": [
    {
     "name": "stdout",
     "output_type": "stream",
     "text": [
      "Daniel Ramírez\n"
     ]
    }
   ],
   "source": [
    "name = \"Daniel Ramírez\"\n",
    "print(name)"
   ]
  },
  {
   "cell_type": "markdown",
   "metadata": {},
   "source": [
    "#### Tipos de datos"
   ]
  },
  {
   "cell_type": "code",
   "execution_count": 17,
   "metadata": {},
   "outputs": [],
   "source": [
    "#String\n",
    "province = \"San José\"\n",
    "month = \"March\"\n",
    "\n",
    "#integers\n",
    "day = 18\n",
    "year = 1994\n",
    "\n",
    "#float\n",
    "height = 1.72\n",
    "\n",
    "#boolean\n",
    "cold = False\n",
    "hot = True"
   ]
  },
  {
   "cell_type": "markdown",
   "metadata": {},
   "source": [
    "#### Print test:"
   ]
  },
  {
   "cell_type": "code",
   "execution_count": 18,
   "metadata": {},
   "outputs": [
    {
     "name": "stdout",
     "output_type": "stream",
     "text": [
      "San José\n",
      "I was born on March 18 , 1994\n",
      "my height: 1.72\n"
     ]
    }
   ],
   "source": [
    "print(province)\n",
    "print(\"I was born on\", month, day, \",\", year)\n",
    "print(\"my height:\", height)"
   ]
  },
  {
   "cell_type": "code",
   "execution_count": 19,
   "metadata": {},
   "outputs": [
    {
     "name": "stdout",
     "output_type": "stream",
     "text": [
      "Total is 52\n"
     ]
    }
   ],
   "source": [
    "sum = 17 + 21 + 14\n",
    "print(\"Total is\", sum)"
   ]
  },
  {
   "cell_type": "markdown",
   "metadata": {},
   "source": [
    "#### Base is 5\n",
    "#### Height is 4\n",
    "#### Area is (base * height) / 2"
   ]
  },
  {
   "cell_type": "code",
   "execution_count": 23,
   "metadata": {},
   "outputs": [
    {
     "name": "stdout",
     "output_type": "stream",
     "text": [
      "The area is 7.5\n",
      "the integer part of the area is 7\n"
     ]
    }
   ],
   "source": [
    "base = 5\n",
    "height = 3\n",
    "area = (base*height)/2\n",
    "print(\"The area is\", area)\n",
    "print(\"the integer part of the area is\", int(area))"
   ]
  },
  {
   "cell_type": "code",
   "execution_count": null,
   "metadata": {},
   "outputs": [],
   "source": []
  },
  {
   "cell_type": "markdown",
   "metadata": {},
   "source": [
    "#### Conditionals"
   ]
  },
  {
   "cell_type": "code",
   "execution_count": 30,
   "metadata": {},
   "outputs": [
    {
     "name": "stdout",
     "output_type": "stream",
     "text": [
      "They are both the same age, and their age is 31\n"
     ]
    }
   ],
   "source": [
    "age1 = 31\n",
    "age2 = 31\n",
    "if(age1 > age2):\n",
    "    print(\"The older age is the first one\", age1)\n",
    "elif(age1 < age2):\n",
    "    print(\"The older age is the second one\", age2)\n",
    "else:\n",
    "    print(\"They are both the same age, and their age is\", age1)"
   ]
  },
  {
   "cell_type": "markdown",
   "metadata": {},
   "source": [
    "#### Lists"
   ]
  },
  {
   "cell_type": "code",
   "execution_count": 32,
   "metadata": {},
   "outputs": [
    {
     "name": "stdout",
     "output_type": "stream",
     "text": [
      "['apple', 'lemon', 'lime', 'pineapple']\n"
     ]
    }
   ],
   "source": [
    "#Array\n",
    "fruits = [\"apple\", \"lemon\", \"lime\",  \"pineapple\"]\n",
    "print(fruits)"
   ]
  },
  {
   "cell_type": "code",
   "execution_count": 33,
   "metadata": {},
   "outputs": [
    {
     "name": "stdout",
     "output_type": "stream",
     "text": [
      "lemon\n"
     ]
    }
   ],
   "source": [
    "print(fruits[1])"
   ]
  },
  {
   "cell_type": "code",
   "execution_count": 36,
   "metadata": {},
   "outputs": [
    {
     "name": "stdout",
     "output_type": "stream",
     "text": [
      "apple\n",
      "lemon\n",
      "lime\n",
      "pineapple\n"
     ]
    }
   ],
   "source": [
    "for i in fruits:\n",
    "    print(i)"
   ]
  },
  {
   "cell_type": "markdown",
   "metadata": {},
   "source": [
    "#### Dictionaries"
   ]
  },
  {
   "cell_type": "code",
   "execution_count": 38,
   "metadata": {},
   "outputs": [],
   "source": [
    "myFamilyDictionary = [\n",
    "    {\n",
    "        \"name\": \"Jafeth\",\n",
    "        \"year_of_birth\": 1996\n",
    "    },\n",
    "    {\n",
    "        \"name\": \"Daniela\",\n",
    "        \"year_of_birth\": 1995\n",
    "    },\n",
    "    {\n",
    "        \"name\": \"Daniel\",\n",
    "        \"year_of_birth\": 1994\n",
    "    },\n",
    "    {\n",
    "        \"name\": \"Marielos\",\n",
    "        \"year_of_birth\": 1969\n",
    "    }\n",
    "]"
   ]
  },
  {
   "cell_type": "code",
   "execution_count": 39,
   "metadata": {},
   "outputs": [
    {
     "name": "stdout",
     "output_type": "stream",
     "text": [
      "{'name': 'Daniel', 'year_of_birth': 1994}\n"
     ]
    }
   ],
   "source": [
    "print(myFamilyDictionary[2])"
   ]
  },
  {
   "cell_type": "code",
   "execution_count": 40,
   "metadata": {},
   "outputs": [
    {
     "name": "stdout",
     "output_type": "stream",
     "text": [
      "Daniel\n"
     ]
    }
   ],
   "source": [
    "print(myFamilyDictionary[2][\"name\"])"
   ]
  },
  {
   "cell_type": "code",
   "execution_count": 42,
   "metadata": {},
   "outputs": [
    {
     "name": "stdout",
     "output_type": "stream",
     "text": [
      "Daniel 1994\n"
     ]
    }
   ],
   "source": [
    "print(myFamilyDictionary[2][\"name\"], myFamilyDictionary[2][\"year_of_birth\"])"
   ]
  },
  {
   "cell_type": "code",
   "execution_count": 67,
   "metadata": {},
   "outputs": [],
   "source": [
    "translateColor = [\n",
    "    {\n",
    "        \"SP\": \"azul\",\n",
    "        \"EN\": \"blue\"\n",
    "    },\n",
    "    {\n",
    "        \"SP\": \"amarillo\",\n",
    "        \"EN\": \"yellow\"\n",
    "    },\n",
    "    {\n",
    "        \"SP\": \"rojo\",\n",
    "        \"EN\": \"red\"\n",
    "    },\n",
    "]"
   ]
  },
  {
   "cell_type": "code",
   "execution_count": 68,
   "metadata": {
    "scrolled": true
   },
   "outputs": [
    {
     "name": "stdout",
     "output_type": "stream",
     "text": [
      "{'SP': 'azul', 'EN': 'blue'}\n",
      "{'SP': 'amarillo', 'EN': 'yellow'}\n",
      "{'SP': 'rojo', 'EN': 'red'}\n"
     ]
    }
   ],
   "source": [
    "for i in range(len(translateColor)):\n",
    "    print(translateColor[i])"
   ]
  },
  {
   "cell_type": "code",
   "execution_count": 62,
   "metadata": {},
   "outputs": [
    {
     "name": "stdout",
     "output_type": "stream",
     "text": [
      "red\n"
     ]
    }
   ],
   "source": [
    "for i in range(len(translateColor)):\n",
    "    if(translateColor[i][\"SP\"] == \"rojo\"):\n",
    "        print(translateColor[i][\"EN\"])"
   ]
  },
  {
   "cell_type": "code",
   "execution_count": null,
   "metadata": {},
   "outputs": [],
   "source": []
  },
  {
   "cell_type": "code",
   "execution_count": null,
   "metadata": {},
   "outputs": [],
   "source": []
  },
  {
   "cell_type": "code",
   "execution_count": null,
   "metadata": {},
   "outputs": [],
   "source": []
  }
 ],
 "metadata": {
  "kernelspec": {
   "display_name": "Python 3",
   "language": "python",
   "name": "python3"
  },
  "language_info": {
   "codemirror_mode": {
    "name": "ipython",
    "version": 3
   },
   "file_extension": ".py",
   "mimetype": "text/x-python",
   "name": "python",
   "nbconvert_exporter": "python",
   "pygments_lexer": "ipython3",
   "version": "3.8.5"
  }
 },
 "nbformat": 4,
 "nbformat_minor": 4
}
